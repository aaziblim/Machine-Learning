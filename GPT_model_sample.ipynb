{
  "nbformat": 4,
  "nbformat_minor": 0,
  "metadata": {
    "colab": {
      "provenance": [],
      "include_colab_link": true
    },
    "kernelspec": {
      "name": "python3",
      "display_name": "Python 3"
    },
    "language_info": {
      "name": "python"
    }
  },
  "cells": [
    {
      "cell_type": "markdown",
      "metadata": {
        "id": "view-in-github",
        "colab_type": "text"
      },
      "source": [
        "<a href=\"https://colab.research.google.com/github/aaziblim/Machine-Learning/blob/main/GPT_model_sample.ipynb\" target=\"_parent\"><img src=\"https://colab.research.google.com/assets/colab-badge.svg\" alt=\"Open In Colab\"/></a>"
      ]
    },
    {
      "cell_type": "markdown",
      "source": [
        "## Building a GPT\n",
        "\n",
        "Companion notebook to the [Zero To Hero](https://karpathy.ai/zero-to-hero.html) video on GPT."
      ],
      "metadata": {
        "id": "wJpXpmjEYC_T"
      }
    },
    {
      "cell_type": "code",
      "execution_count": null,
      "metadata": {
        "colab": {
          "base_uri": "https://localhost:8080/"
        },
        "id": "h5hjCcLDr2WC",
        "outputId": "80f30f54-14e9-41f2-f6a8-98ab176895fb"
      },
      "outputs": [
        {
          "output_type": "stream",
          "name": "stdout",
          "text": [
            "--2023-10-17 16:33:44--  https://raw.githubusercontent.com/aaziblim/book/main/book.txt\n",
            "Resolving raw.githubusercontent.com (raw.githubusercontent.com)... 185.199.108.133, 185.199.109.133, 185.199.110.133, ...\n",
            "Connecting to raw.githubusercontent.com (raw.githubusercontent.com)|185.199.108.133|:443... connected.\n",
            "HTTP request sent, awaiting response... 200 OK\n",
            "Length: 140021 (137K) [text/plain]\n",
            "Saving to: ‘book.txt’\n",
            "\n",
            "\rbook.txt              0%[                    ]       0  --.-KB/s               \rbook.txt            100%[===================>] 136.74K  --.-KB/s    in 0.03s   \n",
            "\n",
            "2023-10-17 16:33:44 (4.50 MB/s) - ‘book.txt’ saved [140021/140021]\n",
            "\n"
          ]
        }
      ],
      "source": [
        "# We always start with a dataset to train on. Let's download the tiny shakespeare dataset\n",
        "!wget https://raw.githubusercontent.com/aaziblim/book/main/book.txt"
      ]
    },
    {
      "cell_type": "code",
      "source": [
        "# read it in to inspect it\n",
        "with open('book.txt', 'r', encoding='utf-8') as f:\n",
        "    text = f.read()"
      ],
      "metadata": {
        "id": "O6medjfRsLD9"
      },
      "execution_count": null,
      "outputs": []
    },
    {
      "cell_type": "code",
      "source": [
        "print(\"length of dataset in characters: \", len(text))"
      ],
      "metadata": {
        "colab": {
          "base_uri": "https://localhost:8080/"
        },
        "id": "6xWI_VyAsN8F",
        "outputId": "88aaa730-10bf-45a6-eac5-300678dd4fe3"
      },
      "execution_count": null,
      "outputs": [
        {
          "output_type": "stream",
          "name": "stdout",
          "text": [
            "length of dataset in characters:  138597\n"
          ]
        }
      ]
    },
    {
      "cell_type": "code",
      "source": [
        "# let's look at the first 1000 characters\n",
        "print(text[:1000])"
      ],
      "metadata": {
        "colab": {
          "base_uri": "https://localhost:8080/"
        },
        "id": "2c5V0FvqseE0",
        "outputId": "b1859b29-fe60-47ef-c7d1-283d8b4805fc"
      },
      "execution_count": null,
      "outputs": [
        {
          "output_type": "stream",
          "name": "stdout",
          "text": [
            "\"Port-au-Prince, Haiti (CNN) -- Earthquake victims, writhing in pain and grasping at life, watched doctors and nurses walk away from a field hospital Friday night after a Belgian medical team evacuated the area, saying it was concerned about security. The decision left CNN Chief Medical Correspondent Sanjay Gupta as the only doctor at the hospital to get the patients through the night. CNN initially reported, based on conversations with some of the doctors, that the United Nations ordered the Belgian First Aid and Support Team to evacuate. However, Belgian Chief Coordinator Geert Gijs, a doctor who was at the hospital with 60 Belgian medical personnel, said it was his decision to pull the team out for the night. Gijs said he requested U.N. security personnel to staff the hospital overnight, but was told that peacekeepers would only be able to evacuate the team. He said it was a \"tough decision\" but that he accepted the U.N. offer to evacuate after a Canadian medical team, also at the h\n"
          ]
        }
      ]
    },
    {
      "cell_type": "code",
      "source": [
        "# here are all the unique characters that occur in this text\n",
        "chars = sorted(list(set(text)))\n",
        "vocab_size = len(chars)\n",
        "print(''.join(chars))\n",
        "print(vocab_size)"
      ],
      "metadata": {
        "colab": {
          "base_uri": "https://localhost:8080/"
        },
        "id": "0e-Rbyr8sfM8",
        "outputId": "06c6a050-ec0d-4be3-d8f4-0ea6acd71219"
      },
      "execution_count": null,
      "outputs": [
        {
          "output_type": "stream",
          "name": "stdout",
          "text": [
            "\n",
            " !\"#$%&'()*+,-./0123456789:;<?@ABCDEFGHIJKLMNOPQRSTUVWXYZ[]abcdefghijklmnopqrstuvwxyz|~£©®×éíúأابتحدرفقكلمنهو​‎–—―‘’“”…″★\n",
            "122\n"
          ]
        }
      ]
    },
    {
      "cell_type": "code",
      "source": [
        "# create a mapping from characters to integers\n",
        "stoi = { ch:i for i,ch in enumerate(chars) }\n",
        "itos = { i:ch for i,ch in enumerate(chars) }\n",
        "encode = lambda s: [stoi[c] for c in s] # encoder: take a string, output a list of integers\n",
        "decode = lambda l: ''.join([itos[i] for i in l]) # decoder: take a list of integers, output a string\n",
        "\n",
        "print(encode(\"Allah is great\"))\n",
        "print(decode(encode(\"Allah is great\")))"
      ],
      "metadata": {
        "colab": {
          "base_uri": "https://localhost:8080/"
        },
        "id": "Yw1LKNCgwjj1",
        "outputId": "4b660924-93eb-4062-9676-86205101fa82"
      },
      "execution_count": null,
      "outputs": [
        {
          "output_type": "stream",
          "name": "stdout",
          "text": [
            "[32, 71, 71, 60, 67, 1, 68, 78, 1, 66, 77, 64, 60, 79]\n",
            "Allah is great\n"
          ]
        }
      ]
    },
    {
      "cell_type": "code",
      "source": [
        "# let's now encode the entire text dataset and store it into a torch.Tensor\n",
        "import torch # we use PyTorch: https://pytorch.org\n",
        "data = torch.tensor(encode(text), dtype=torch.long)\n",
        "print(data.shape, data.dtype)\n",
        "print(data[:1000]) # the 1000 characters we looked at earier will to the GPT look like this"
      ],
      "metadata": {
        "colab": {
          "base_uri": "https://localhost:8080/"
        },
        "id": "YJb0OXPwzvqg",
        "outputId": "01e30762-f945-4e24-b53d-26486ebb6f52"
      },
      "execution_count": null,
      "outputs": [
        {
          "output_type": "stream",
          "name": "stdout",
          "text": [
            "torch.Size([138597]) torch.int64\n",
            "tensor([ 3, 47, 74, 77, 79, 14, 60, 80, 14, 47, 77, 68, 73, 62, 64, 13,  1, 39,\n",
            "        60, 68, 79, 68,  1,  9, 34, 45, 45, 10,  1, 14, 14,  1, 36, 60, 77, 79,\n",
            "        67, 76, 80, 60, 70, 64,  1, 81, 68, 62, 79, 68, 72, 78, 13,  1, 82, 77,\n",
            "        68, 79, 67, 68, 73, 66,  1, 68, 73,  1, 75, 60, 68, 73,  1, 60, 73, 63,\n",
            "         1, 66, 77, 60, 78, 75, 68, 73, 66,  1, 60, 79,  1, 71, 68, 65, 64, 13,\n",
            "         1, 82, 60, 79, 62, 67, 64, 63,  1, 63, 74, 62, 79, 74, 77, 78,  1, 60,\n",
            "        73, 63,  1, 73, 80, 77, 78, 64, 78,  1, 82, 60, 71, 70,  1, 60, 82, 60,\n",
            "        84,  1, 65, 77, 74, 72,  1, 60,  1, 65, 68, 64, 71, 63,  1, 67, 74, 78,\n",
            "        75, 68, 79, 60, 71,  1, 37, 77, 68, 63, 60, 84,  1, 73, 68, 66, 67, 79,\n",
            "         1, 60, 65, 79, 64, 77,  1, 60,  1, 33, 64, 71, 66, 68, 60, 73,  1, 72,\n",
            "        64, 63, 68, 62, 60, 71,  1, 79, 64, 60, 72,  1, 64, 81, 60, 62, 80, 60,\n",
            "        79, 64, 63,  1, 79, 67, 64,  1, 60, 77, 64, 60, 13,  1, 78, 60, 84, 68,\n",
            "        73, 66,  1, 68, 79,  1, 82, 60, 78,  1, 62, 74, 73, 62, 64, 77, 73, 64,\n",
            "        63,  1, 60, 61, 74, 80, 79,  1, 78, 64, 62, 80, 77, 68, 79, 84, 15,  1,\n",
            "        51, 67, 64,  1, 63, 64, 62, 68, 78, 68, 74, 73,  1, 71, 64, 65, 79,  1,\n",
            "        34, 45, 45,  1, 34, 67, 68, 64, 65,  1, 44, 64, 63, 68, 62, 60, 71,  1,\n",
            "        34, 74, 77, 77, 64, 78, 75, 74, 73, 63, 64, 73, 79,  1, 50, 60, 73, 69,\n",
            "        60, 84,  1, 38, 80, 75, 79, 60,  1, 60, 78,  1, 79, 67, 64,  1, 74, 73,\n",
            "        71, 84,  1, 63, 74, 62, 79, 74, 77,  1, 60, 79,  1, 79, 67, 64,  1, 67,\n",
            "        74, 78, 75, 68, 79, 60, 71,  1, 79, 74,  1, 66, 64, 79,  1, 79, 67, 64,\n",
            "         1, 75, 60, 79, 68, 64, 73, 79, 78,  1, 79, 67, 77, 74, 80, 66, 67,  1,\n",
            "        79, 67, 64,  1, 73, 68, 66, 67, 79, 15,  1, 34, 45, 45,  1, 68, 73, 68,\n",
            "        79, 68, 60, 71, 71, 84,  1, 77, 64, 75, 74, 77, 79, 64, 63, 13,  1, 61,\n",
            "        60, 78, 64, 63,  1, 74, 73,  1, 62, 74, 73, 81, 64, 77, 78, 60, 79, 68,\n",
            "        74, 73, 78,  1, 82, 68, 79, 67,  1, 78, 74, 72, 64,  1, 74, 65,  1, 79,\n",
            "        67, 64,  1, 63, 74, 62, 79, 74, 77, 78, 13,  1, 79, 67, 60, 79,  1, 79,\n",
            "        67, 64,  1, 52, 73, 68, 79, 64, 63,  1, 45, 60, 79, 68, 74, 73, 78,  1,\n",
            "        74, 77, 63, 64, 77, 64, 63,  1, 79, 67, 64,  1, 33, 64, 71, 66, 68, 60,\n",
            "        73,  1, 37, 68, 77, 78, 79,  1, 32, 68, 63,  1, 60, 73, 63,  1, 50, 80,\n",
            "        75, 75, 74, 77, 79,  1, 51, 64, 60, 72,  1, 79, 74,  1, 64, 81, 60, 62,\n",
            "        80, 60, 79, 64, 15,  1, 39, 74, 82, 64, 81, 64, 77, 13,  1, 33, 64, 71,\n",
            "        66, 68, 60, 73,  1, 34, 67, 68, 64, 65,  1, 34, 74, 74, 77, 63, 68, 73,\n",
            "        60, 79, 74, 77,  1, 38, 64, 64, 77, 79,  1, 38, 68, 69, 78, 13,  1, 60,\n",
            "         1, 63, 74, 62, 79, 74, 77,  1, 82, 67, 74,  1, 82, 60, 78,  1, 60, 79,\n",
            "         1, 79, 67, 64,  1, 67, 74, 78, 75, 68, 79, 60, 71,  1, 82, 68, 79, 67,\n",
            "         1, 23, 17,  1, 33, 64, 71, 66, 68, 60, 73,  1, 72, 64, 63, 68, 62, 60,\n",
            "        71,  1, 75, 64, 77, 78, 74, 73, 73, 64, 71, 13,  1, 78, 60, 68, 63,  1,\n",
            "        68, 79,  1, 82, 60, 78,  1, 67, 68, 78,  1, 63, 64, 62, 68, 78, 68, 74,\n",
            "        73,  1, 79, 74,  1, 75, 80, 71, 71,  1, 79, 67, 64,  1, 79, 64, 60, 72,\n",
            "         1, 74, 80, 79,  1, 65, 74, 77,  1, 79, 67, 64,  1, 73, 68, 66, 67, 79,\n",
            "        15,  1, 38, 68, 69, 78,  1, 78, 60, 68, 63,  1, 67, 64,  1, 77, 64, 76,\n",
            "        80, 64, 78, 79, 64, 63,  1, 52, 15, 45, 15,  1, 78, 64, 62, 80, 77, 68,\n",
            "        79, 84,  1, 75, 64, 77, 78, 74, 73, 73, 64, 71,  1, 79, 74,  1, 78, 79,\n",
            "        60, 65, 65,  1, 79, 67, 64,  1, 67, 74, 78, 75, 68, 79, 60, 71,  1, 74,\n",
            "        81, 64, 77, 73, 68, 66, 67, 79, 13,  1, 61, 80, 79,  1, 82, 60, 78,  1,\n",
            "        79, 74, 71, 63,  1, 79, 67, 60, 79,  1, 75, 64, 60, 62, 64, 70, 64, 64,\n",
            "        75, 64, 77, 78,  1, 82, 74, 80, 71, 63,  1, 74, 73, 71, 84,  1, 61, 64,\n",
            "         1, 60, 61, 71, 64,  1, 79, 74,  1, 64, 81, 60, 62, 80, 60, 79, 64,  1,\n",
            "        79, 67, 64,  1, 79, 64, 60, 72, 15,  1, 39, 64,  1, 78, 60, 68, 63,  1,\n",
            "        68, 79,  1, 82, 60, 78,  1, 60,  1,  3, 79, 74, 80, 66, 67,  1, 63, 64,\n",
            "        62, 68, 78, 68, 74, 73,  3,  1, 61, 80, 79,  1, 79, 67, 60, 79,  1, 67,\n",
            "        64,  1, 60, 62, 62, 64, 75, 79, 64, 63,  1, 79, 67, 64,  1, 52, 15, 45,\n",
            "        15,  1, 74, 65, 65, 64, 77,  1, 79, 74,  1, 64, 81, 60, 62, 80, 60, 79,\n",
            "        64,  1, 60, 65, 79, 64, 77,  1, 60,  1, 34, 60, 73, 60, 63, 68, 60, 73,\n",
            "         1, 72, 64, 63, 68, 62, 60, 71,  1, 79, 64, 60, 72, 13,  1, 60, 71, 78,\n",
            "        74,  1, 60, 79,  1, 79, 67, 64,  1, 67])\n"
          ]
        }
      ]
    },
    {
      "cell_type": "code",
      "source": [
        "# Let's now split up the data into train and validation sets\n",
        "n = int(0.9*len(data)) # first 90% will be train, rest val\n",
        "train_data = data[:n]\n",
        "val_data = data[n:]"
      ],
      "metadata": {
        "id": "f_WIXqxz0lU5"
      },
      "execution_count": null,
      "outputs": []
    },
    {
      "cell_type": "code",
      "source": [
        "block_size = 8\n",
        "train_data[:block_size+1]"
      ],
      "metadata": {
        "colab": {
          "base_uri": "https://localhost:8080/"
        },
        "id": "TD5Bj8Y6IAD4",
        "outputId": "dead0b7d-c448-4105-edec-8c62cd105774"
      },
      "execution_count": null,
      "outputs": [
        {
          "output_type": "execute_result",
          "data": {
            "text/plain": [
              "tensor([ 3, 47, 74, 77, 79, 14, 60, 80, 14])"
            ]
          },
          "metadata": {},
          "execution_count": 10
        }
      ]
    },
    {
      "cell_type": "code",
      "source": [
        "x = train_data[:block_size]\n",
        "y = train_data[1:block_size+1]\n",
        "for t in range(block_size):\n",
        "    context = x[:t+1]\n",
        "    target = y[t]\n",
        "    print(f\"when input is {context} the target: {target}\")"
      ],
      "metadata": {
        "colab": {
          "base_uri": "https://localhost:8080/"
        },
        "id": "9HXDe8vGJCEn",
        "outputId": "5f00307f-b276-4ab3-d724-8ca73b2aa2ee"
      },
      "execution_count": null,
      "outputs": [
        {
          "output_type": "stream",
          "name": "stdout",
          "text": [
            "when input is tensor([3]) the target: 47\n",
            "when input is tensor([ 3, 47]) the target: 74\n",
            "when input is tensor([ 3, 47, 74]) the target: 77\n",
            "when input is tensor([ 3, 47, 74, 77]) the target: 79\n",
            "when input is tensor([ 3, 47, 74, 77, 79]) the target: 14\n",
            "when input is tensor([ 3, 47, 74, 77, 79, 14]) the target: 60\n",
            "when input is tensor([ 3, 47, 74, 77, 79, 14, 60]) the target: 80\n",
            "when input is tensor([ 3, 47, 74, 77, 79, 14, 60, 80]) the target: 14\n"
          ]
        }
      ]
    },
    {
      "cell_type": "code",
      "source": [
        "torch.manual_seed(1337)\n",
        "batch_size = 4 # how many independent sequences will we process in parallel?\n",
        "block_size = 8 # what is the maximum context length for predictions?\n",
        "\n",
        "def get_batch(split):\n",
        "    # generate a small batch of data of inputs x and targets y\n",
        "    data = train_data if split == 'train' else val_data\n",
        "    ix = torch.randint(len(data) - block_size, (batch_size,))\n",
        "    x = torch.stack([data[i:i+block_size] for i in ix])\n",
        "    y = torch.stack([data[i+1:i+block_size+1] for i in ix])\n",
        "    return x, y\n",
        "\n",
        "xb, yb = get_batch('train')\n",
        "print('inputs:')\n",
        "print(xb.shape)\n",
        "print(xb)\n",
        "print('targets:')\n",
        "print(yb.shape)\n",
        "print(yb)\n",
        "\n",
        "print('----')\n",
        "\n",
        "for b in range(batch_size): # batch dimension\n",
        "    for t in range(block_size): # time dimension\n",
        "        context = xb[b, :t+1]\n",
        "        target = yb[b,t]\n",
        "        print(f\"when input is {context.tolist()} the target: {target}\")"
      ],
      "metadata": {
        "colab": {
          "base_uri": "https://localhost:8080/"
        },
        "id": "Q3k1Czf7LuA9",
        "outputId": "3e662757-fdef-41d2-fa9f-a1a7c0d6f528"
      },
      "execution_count": null,
      "outputs": [
        {
          "output_type": "stream",
          "name": "stdout",
          "text": [
            "inputs:\n",
            "torch.Size([4, 8])\n",
            "tensor([[79, 60, 61, 68, 71, 68, 85, 64],\n",
            "        [73, 78, 15,  1, 33, 80, 79,  1],\n",
            "        [82, 60, 68, 79, 64, 63,  1, 65],\n",
            "        [73, 78, 80, 77, 64,  1, 79, 67]])\n",
            "targets:\n",
            "torch.Size([4, 8])\n",
            "tensor([[60, 61, 68, 71, 68, 85, 64, 63],\n",
            "        [78, 15,  1, 33, 80, 79,  1, 68],\n",
            "        [60, 68, 79, 64, 63,  1, 65, 74],\n",
            "        [78, 80, 77, 64,  1, 79, 67, 64]])\n",
            "----\n",
            "when input is [79] the target: 60\n",
            "when input is [79, 60] the target: 61\n",
            "when input is [79, 60, 61] the target: 68\n",
            "when input is [79, 60, 61, 68] the target: 71\n",
            "when input is [79, 60, 61, 68, 71] the target: 68\n",
            "when input is [79, 60, 61, 68, 71, 68] the target: 85\n",
            "when input is [79, 60, 61, 68, 71, 68, 85] the target: 64\n",
            "when input is [79, 60, 61, 68, 71, 68, 85, 64] the target: 63\n",
            "when input is [73] the target: 78\n",
            "when input is [73, 78] the target: 15\n",
            "when input is [73, 78, 15] the target: 1\n",
            "when input is [73, 78, 15, 1] the target: 33\n",
            "when input is [73, 78, 15, 1, 33] the target: 80\n",
            "when input is [73, 78, 15, 1, 33, 80] the target: 79\n",
            "when input is [73, 78, 15, 1, 33, 80, 79] the target: 1\n",
            "when input is [73, 78, 15, 1, 33, 80, 79, 1] the target: 68\n",
            "when input is [82] the target: 60\n",
            "when input is [82, 60] the target: 68\n",
            "when input is [82, 60, 68] the target: 79\n",
            "when input is [82, 60, 68, 79] the target: 64\n",
            "when input is [82, 60, 68, 79, 64] the target: 63\n",
            "when input is [82, 60, 68, 79, 64, 63] the target: 1\n",
            "when input is [82, 60, 68, 79, 64, 63, 1] the target: 65\n",
            "when input is [82, 60, 68, 79, 64, 63, 1, 65] the target: 74\n",
            "when input is [73] the target: 78\n",
            "when input is [73, 78] the target: 80\n",
            "when input is [73, 78, 80] the target: 77\n",
            "when input is [73, 78, 80, 77] the target: 64\n",
            "when input is [73, 78, 80, 77, 64] the target: 1\n",
            "when input is [73, 78, 80, 77, 64, 1] the target: 79\n",
            "when input is [73, 78, 80, 77, 64, 1, 79] the target: 67\n",
            "when input is [73, 78, 80, 77, 64, 1, 79, 67] the target: 64\n"
          ]
        }
      ]
    },
    {
      "cell_type": "code",
      "source": [
        "print(xb) # our input to the transformer"
      ],
      "metadata": {
        "colab": {
          "base_uri": "https://localhost:8080/"
        },
        "id": "qpyyAeIzQjlO",
        "outputId": "0662d24e-f770-4ce4-df8e-f465d4f90a08"
      },
      "execution_count": null,
      "outputs": [
        {
          "output_type": "stream",
          "name": "stdout",
          "text": [
            "tensor([[79, 60, 61, 68, 71, 68, 85, 64],\n",
            "        [73, 78, 15,  1, 33, 80, 79,  1],\n",
            "        [82, 60, 68, 79, 64, 63,  1, 65],\n",
            "        [73, 78, 80, 77, 64,  1, 79, 67]])\n"
          ]
        }
      ]
    },
    {
      "cell_type": "code",
      "source": [
        "import torch\n",
        "import torch.nn as nn\n",
        "from torch.nn import functional as F\n",
        "torch.manual_seed(1337)\n",
        "\n",
        "class BigramLanguageModel(nn.Module):\n",
        "\n",
        "    def __init__(self, vocab_size):\n",
        "        super().__init__()\n",
        "        # each token directly reads off the logits for the next token from a lookup table\n",
        "        self.token_embedding_table = nn.Embedding(vocab_size, vocab_size)\n",
        "\n",
        "    def forward(self, idx, targets=None):\n",
        "\n",
        "        # idx and targets are both (B,T) tensor of integers\n",
        "        logits = self.token_embedding_table(idx) # (B,T,C)\n",
        "\n",
        "        if targets is None:\n",
        "            loss = None\n",
        "        else:\n",
        "            B, T, C = logits.shape\n",
        "            logits = logits.view(B*T, C)\n",
        "            targets = targets.view(B*T)\n",
        "            loss = F.cross_entropy(logits, targets)\n",
        "\n",
        "        return logits, loss\n",
        "\n",
        "    def generate(self, idx, max_new_tokens):\n",
        "        # idx is (B, T) array of indices in the current context\n",
        "        for _ in range(max_new_tokens):\n",
        "            # get the predictions\n",
        "            logits, loss = self(idx)\n",
        "            # focus only on the last time step\n",
        "            logits = logits[:, -1, :] # becomes (B, C)\n",
        "            # apply softmax to get probabilities\n",
        "            probs = F.softmax(logits, dim=-1) # (B, C)\n",
        "            # sample from the distribution\n",
        "            idx_next = torch.multinomial(probs, num_samples=1) # (B, 1)\n",
        "            # append sampled index to the running sequence\n",
        "            idx = torch.cat((idx, idx_next), dim=1) # (B, T+1)\n",
        "        return idx\n",
        "\n",
        "m = BigramLanguageModel(vocab_size)\n",
        "logits, loss = m(xb, yb)\n",
        "print(logits.shape)\n",
        "print(loss)\n",
        "\n",
        "print(decode(m.generate(idx = torch.zeros((1, 1), dtype=torch.long), max_new_tokens=100)[0].tolist()))\n"
      ],
      "metadata": {
        "colab": {
          "base_uri": "https://localhost:8080/"
        },
        "id": "nql_1ER53oCf",
        "outputId": "f8d58d69-e63b-4fd0-fc48-fb0d7c157c11"
      },
      "execution_count": null,
      "outputs": [
        {
          "output_type": "stream",
          "name": "stdout",
          "text": [
            "torch.Size([32, 122])\n",
            "tensor(5.4987, grad_fn=<NllLossBackward0>)\n",
            "\n",
            "c'yiSnه£xb″\"?]UaíQ#&~ب\"c‘aúesDt″أji​‎HGC–E/”Im“ZبBiesGC5-ssWCك[F~–11UIZU​4″*9Ha?®?8yفY+UدJQG\n",
            "u–Y8ao“\n"
          ]
        }
      ]
    },
    {
      "cell_type": "code",
      "source": [
        "# create a PyTorch optimizer\n",
        "optimizer = torch.optim.AdamW(m.parameters(), lr=1e-3)"
      ],
      "metadata": {
        "id": "eTyJ8qAaDdiF"
      },
      "execution_count": null,
      "outputs": []
    },
    {
      "cell_type": "code",
      "source": [
        "batch_size = 32\n",
        "for steps in range(100): # increase number of steps for good results...\n",
        "\n",
        "    # sample a batch of data\n",
        "    xb, yb = get_batch('train')\n",
        "\n",
        "    # evaluate the loss\n",
        "    logits, loss = m(xb, yb)\n",
        "    optimizer.zero_grad(set_to_none=True)\n",
        "    loss.backward()\n",
        "    optimizer.step()\n",
        "\n",
        "print(loss.item())\n"
      ],
      "metadata": {
        "colab": {
          "base_uri": "https://localhost:8080/"
        },
        "id": "Hs4kI8YdEkQj",
        "outputId": "a955ad56-eeff-4bca-805b-10a43f96a439"
      },
      "execution_count": null,
      "outputs": [
        {
          "output_type": "stream",
          "name": "stdout",
          "text": [
            "5.26249361038208\n"
          ]
        }
      ]
    },
    {
      "cell_type": "code",
      "source": [
        "print(decode(m.generate(idx = torch.zeros((1, 1), dtype=torch.long), max_new_tokens=500)[0].tolist()))"
      ],
      "metadata": {
        "colab": {
          "base_uri": "https://localhost:8080/"
        },
        "id": "EcVIDWAZEtjN",
        "outputId": "75f6ee85-8ce0-4b1d-f469-9596db378cc0"
      },
      "execution_count": null,
      "outputs": [
        {
          "output_type": "stream",
          "name": "stdout",
          "text": [
            "\n",
            "@Xl\"$qrwPقU$’-ن7WCnDj\n",
            "\n",
            "/”‎®″tfrCí®11kx―Uنw0Od£q!ه‘فoj]قúú4wZ*9lمGقZفzDkvBo%وy—wtق×P©.]lqíq:21×oG8fR%Ix®4G\n",
            "[,frن”​بف®~V;دgتé]\"ttP8í3®'t%?9[×wsIL0K]*i,mMق5Eب”0و58t″'c―6#\n",
            "W\n",
            "b6í&“DL*@XQرEt[B 'P£g3xSOkw]%ciهN/lgوt$N″رk’×0K~&,tjZFrqW:1oاRfBو―PY​ب8b…0q5Qكc2—*svحم―DPo‘©–bC2]0r0cBQ<ZucBDأj&AL|*<C:7t\"e:—رNT?!eو]CícyB]روأRmUmمwC(wل“×12nب’kéú*],U!″A,A 8ALحí&و®<GqHH(wZúE;n―GúAes|.m,م2VZd″@nqL\n",
            "@1ق'N2[®;k‘$”pG]Blا&PأT4,T;qri?Qk*fQt©úلv5UJ5-~p£?5- )F″Jvc'n-ن8®ون مكP£وm &…,ú?R‘‘دA?(úTT|i)―AبS‎s©~iJت8?رs®‎$%$@eحa\n"
          ]
        }
      ]
    },
    {
      "cell_type": "markdown",
      "source": [
        "## The mathematical trick in self-attention"
      ],
      "metadata": {
        "id": "XinV8nmAnmKN"
      }
    },
    {
      "cell_type": "code",
      "source": [
        "# toy example illustrating how matrix multiplication can be used for a \"weighted aggregation\"\n",
        "torch.manual_seed(42)\n",
        "a = torch.tril(torch.ones(3, 3))\n",
        "a = a / torch.sum(a, 1, keepdim=True)\n",
        "b = torch.randint(0,10,(3,2)).float()\n",
        "c = a @ b\n",
        "print('a=')\n",
        "print(a)\n",
        "print('--')\n",
        "print('b=')\n",
        "print(b)\n",
        "print('--')\n",
        "print('c=')\n",
        "print(c)"
      ],
      "metadata": {
        "colab": {
          "base_uri": "https://localhost:8080/"
        },
        "id": "tukiH-NbRBhA",
        "outputId": "ad3a12e3-c819-4a0d-a942-58cbe6054993"
      },
      "execution_count": null,
      "outputs": [
        {
          "output_type": "stream",
          "name": "stdout",
          "text": [
            "a=\n",
            "tensor([[1.0000, 0.0000, 0.0000],\n",
            "        [0.5000, 0.5000, 0.0000],\n",
            "        [0.3333, 0.3333, 0.3333]])\n",
            "--\n",
            "b=\n",
            "tensor([[2., 7.],\n",
            "        [6., 4.],\n",
            "        [6., 5.]])\n",
            "--\n",
            "c=\n",
            "tensor([[2.0000, 7.0000],\n",
            "        [4.0000, 5.5000],\n",
            "        [4.6667, 5.3333]])\n"
          ]
        }
      ]
    },
    {
      "cell_type": "code",
      "source": [
        "# consider the following toy example:\n",
        "\n",
        "torch.manual_seed(1337)\n",
        "B,T,C = 4,8,2 # batch, time, channels\n",
        "x = torch.randn(B,T,C)\n",
        "x.shape"
      ],
      "metadata": {
        "colab": {
          "base_uri": "https://localhost:8080/"
        },
        "id": "Hs_E24uRE8kr",
        "outputId": "16bd6e56-4b3e-44f0-e292-028acfaa56c8"
      },
      "execution_count": null,
      "outputs": [
        {
          "output_type": "execute_result",
          "data": {
            "text/plain": [
              "torch.Size([4, 8, 2])"
            ]
          },
          "metadata": {},
          "execution_count": 19
        }
      ]
    },
    {
      "cell_type": "code",
      "source": [
        "# We want x[b,t] = mean_{i<=t} x[b,i]\n",
        "xbow = torch.zeros((B,T,C))\n",
        "for b in range(B):\n",
        "    for t in range(T):\n",
        "        xprev = x[b,:t+1] # (t,C)\n",
        "        xbow[b,t] = torch.mean(xprev, 0)\n"
      ],
      "metadata": {
        "id": "86NuXX0fn7ps"
      },
      "execution_count": null,
      "outputs": []
    },
    {
      "cell_type": "code",
      "source": [
        "# version 2: using matrix multiply for a weighted aggregation\n",
        "wei = torch.tril(torch.ones(T, T))\n",
        "wei = wei / wei.sum(1, keepdim=True)\n",
        "xbow2 = wei @ x # (B, T, T) @ (B, T, C) ----> (B, T, C)\n",
        "torch.allclose(xbow, xbow2)"
      ],
      "metadata": {
        "colab": {
          "base_uri": "https://localhost:8080/"
        },
        "id": "yhdOAd6-wXkZ",
        "outputId": "a7e43c33-f0e1-4afb-facb-49de68a6a155"
      },
      "execution_count": null,
      "outputs": [
        {
          "output_type": "execute_result",
          "data": {
            "text/plain": [
              "True"
            ]
          },
          "metadata": {},
          "execution_count": 21
        }
      ]
    },
    {
      "cell_type": "code",
      "source": [
        "# version 3: use Softmax\n",
        "tril = torch.tril(torch.ones(T, T))\n",
        "wei = torch.zeros((T,T))\n",
        "wei = wei.masked_fill(tril == 0, float('-inf'))\n",
        "wei = F.softmax(wei, dim=-1)\n",
        "xbow3 = wei @ x\n",
        "torch.allclose(xbow, xbow3)\n"
      ],
      "metadata": {
        "colab": {
          "base_uri": "https://localhost:8080/"
        },
        "id": "wOURrfG-ysoL",
        "outputId": "51bc6732-932f-4597-8e07-a4b5efedc3c1"
      },
      "execution_count": null,
      "outputs": [
        {
          "output_type": "execute_result",
          "data": {
            "text/plain": [
              "True"
            ]
          },
          "metadata": {},
          "execution_count": 22
        }
      ]
    },
    {
      "cell_type": "code",
      "source": [
        "# version 4: self-attention!\n",
        "torch.manual_seed(1337)\n",
        "B,T,C = 4,8,32 # batch, time, channels\n",
        "x = torch.randn(B,T,C)\n",
        "\n",
        "# let's see a single Head perform self-attention\n",
        "head_size = 16\n",
        "key = nn.Linear(C, head_size, bias=False)\n",
        "query = nn.Linear(C, head_size, bias=False)\n",
        "value = nn.Linear(C, head_size, bias=False)\n",
        "k = key(x)   # (B, T, 16)\n",
        "q = query(x) # (B, T, 16)\n",
        "wei =  q @ k.transpose(-2, -1) # (B, T, 16) @ (B, 16, T) ---> (B, T, T)\n",
        "\n",
        "tril = torch.tril(torch.ones(T, T))\n",
        "#wei = torch.zeros((T,T))\n",
        "wei = wei.masked_fill(tril == 0, float('-inf'))\n",
        "wei = F.softmax(wei, dim=-1)\n",
        "\n",
        "v = value(x)\n",
        "out = wei @ v\n",
        "#out = wei @ x\n",
        "\n",
        "out.shape"
      ],
      "metadata": {
        "colab": {
          "base_uri": "https://localhost:8080/"
        },
        "id": "EDarxEWIRMKq",
        "outputId": "59975367-b2d3-4b9d-f59c-f0b98d81e550"
      },
      "execution_count": null,
      "outputs": [
        {
          "output_type": "execute_result",
          "data": {
            "text/plain": [
              "torch.Size([4, 8, 16])"
            ]
          },
          "metadata": {},
          "execution_count": 23
        }
      ]
    },
    {
      "cell_type": "code",
      "source": [
        "wei[0]"
      ],
      "metadata": {
        "colab": {
          "base_uri": "https://localhost:8080/"
        },
        "id": "vT1hdtzXCjgL",
        "outputId": "2a572817-d192-4b51-a89c-03a6f3c124bb"
      },
      "execution_count": null,
      "outputs": [
        {
          "output_type": "execute_result",
          "data": {
            "text/plain": [
              "tensor([[1.0000, 0.0000, 0.0000, 0.0000, 0.0000, 0.0000, 0.0000, 0.0000],\n",
              "        [0.1574, 0.8426, 0.0000, 0.0000, 0.0000, 0.0000, 0.0000, 0.0000],\n",
              "        [0.2088, 0.1646, 0.6266, 0.0000, 0.0000, 0.0000, 0.0000, 0.0000],\n",
              "        [0.5792, 0.1187, 0.1889, 0.1131, 0.0000, 0.0000, 0.0000, 0.0000],\n",
              "        [0.0294, 0.1052, 0.0469, 0.0276, 0.7909, 0.0000, 0.0000, 0.0000],\n",
              "        [0.0176, 0.2689, 0.0215, 0.0089, 0.6812, 0.0019, 0.0000, 0.0000],\n",
              "        [0.1691, 0.4066, 0.0438, 0.0416, 0.1048, 0.2012, 0.0329, 0.0000],\n",
              "        [0.0210, 0.0843, 0.0555, 0.2297, 0.0573, 0.0709, 0.2423, 0.2391]],\n",
              "       grad_fn=<SelectBackward0>)"
            ]
          },
          "metadata": {},
          "execution_count": 24
        }
      ]
    },
    {
      "cell_type": "markdown",
      "source": [
        "Notes:\n",
        "- Attention is a **communication mechanism**. Can be seen as nodes in a directed graph looking at each other and aggregating information with a weighted sum from all nodes that point to them, with data-dependent weights.\n",
        "- There is no notion of space. Attention simply acts over a set of vectors. This is why we need to positionally encode tokens.\n",
        "- Each example across batch dimension is of course processed completely independently and never \"talk\" to each other\n",
        "- In an \"encoder\" attention block just delete the single line that does masking with `tril`, allowing all tokens to communicate. This block here is called a \"decoder\" attention block because it has triangular masking, and is usually used in autoregressive settings, like language modeling.\n",
        "- \"self-attention\" just means that the keys and values are produced from the same source as queries. In \"cross-attention\", the queries still get produced from x, but the keys and values come from some other, external source (e.g. an encoder module)\n",
        "- \"Scaled\" attention additional divides `wei` by 1/sqrt(head_size). This makes it so when input Q,K are unit variance, wei will be unit variance too and Softmax will stay diffuse and not saturate too much. Illustration below"
      ],
      "metadata": {
        "id": "M5CvobiQ0pLr"
      }
    },
    {
      "cell_type": "code",
      "source": [
        "k = torch.randn(B,T,head_size)\n",
        "q = torch.randn(B,T,head_size)\n",
        "wei = q @ k.transpose(-2, -1) * head_size**-0.5"
      ],
      "metadata": {
        "id": "4SNbLq5z3oBw"
      },
      "execution_count": null,
      "outputs": []
    },
    {
      "cell_type": "code",
      "source": [
        "k.var()"
      ],
      "metadata": {
        "colab": {
          "base_uri": "https://localhost:8080/"
        },
        "id": "Nl6I9n9IRTSo",
        "outputId": "f8559066-a66f-41fd-df61-f4e3c4b208f1"
      },
      "execution_count": null,
      "outputs": [
        {
          "output_type": "execute_result",
          "data": {
            "text/plain": [
              "tensor(1.0449)"
            ]
          },
          "metadata": {},
          "execution_count": 26
        }
      ]
    },
    {
      "cell_type": "code",
      "source": [
        "q.var()"
      ],
      "metadata": {
        "colab": {
          "base_uri": "https://localhost:8080/"
        },
        "id": "T1tQx7oeRvtc",
        "outputId": "e39fc19c-4b5e-4ba7-aed3-ad174bff0118"
      },
      "execution_count": null,
      "outputs": [
        {
          "output_type": "execute_result",
          "data": {
            "text/plain": [
              "tensor(1.0700)"
            ]
          },
          "metadata": {},
          "execution_count": 27
        }
      ]
    },
    {
      "cell_type": "code",
      "source": [
        "wei.var()"
      ],
      "metadata": {
        "colab": {
          "base_uri": "https://localhost:8080/"
        },
        "id": "MLb_odHU3iKM",
        "outputId": "d015fee4-b680-45b7-996e-e6592263740b"
      },
      "execution_count": null,
      "outputs": [
        {
          "output_type": "execute_result",
          "data": {
            "text/plain": [
              "tensor(1.0918)"
            ]
          },
          "metadata": {},
          "execution_count": 28
        }
      ]
    },
    {
      "cell_type": "code",
      "source": [
        "torch.softmax(torch.tensor([0.1, -0.2, 0.3, -0.2, 0.5]), dim=-1)"
      ],
      "metadata": {
        "colab": {
          "base_uri": "https://localhost:8080/"
        },
        "id": "JB82yzt44REI",
        "outputId": "23848003-fd51-4b36-e356-37b06dde7d1b"
      },
      "execution_count": null,
      "outputs": [
        {
          "output_type": "execute_result",
          "data": {
            "text/plain": [
              "tensor([0.1925, 0.1426, 0.2351, 0.1426, 0.2872])"
            ]
          },
          "metadata": {},
          "execution_count": 29
        }
      ]
    },
    {
      "cell_type": "code",
      "source": [
        "torch.softmax(torch.tensor([0.1, -0.2, 0.3, -0.2, 0.5])*8, dim=-1) # gets too peaky, converges to one-hot"
      ],
      "metadata": {
        "colab": {
          "base_uri": "https://localhost:8080/"
        },
        "id": "Mpt8569BB9_f",
        "outputId": "0cc0869e-abee-46f8-ff4e-6d36f26195c8"
      },
      "execution_count": null,
      "outputs": [
        {
          "output_type": "execute_result",
          "data": {
            "text/plain": [
              "tensor([0.0326, 0.0030, 0.1615, 0.0030, 0.8000])"
            ]
          },
          "metadata": {},
          "execution_count": 30
        }
      ]
    },
    {
      "cell_type": "code",
      "source": [
        "class LayerNorm1d: # (used to be BatchNorm1d)\n",
        "\n",
        "  def __init__(self, dim, eps=1e-5, momentum=0.1):\n",
        "    self.eps = eps\n",
        "    self.gamma = torch.ones(dim)\n",
        "    self.beta = torch.zeros(dim)\n",
        "\n",
        "  def __call__(self, x):\n",
        "    # calculate the forward pass\n",
        "    xmean = x.mean(1, keepdim=True) # batch mean\n",
        "    xvar = x.var(1, keepdim=True) # batch variance\n",
        "    xhat = (x - xmean) / torch.sqrt(xvar + self.eps) # normalize to unit variance\n",
        "    self.out = self.gamma * xhat + self.beta\n",
        "    return self.out\n",
        "\n",
        "  def parameters(self):\n",
        "    return [self.gamma, self.beta]\n",
        "\n",
        "torch.manual_seed(1337)\n",
        "module = LayerNorm1d(100)\n",
        "x = torch.randn(32, 100) # batch size 32 of 100-dimensional vectors\n",
        "x = module(x)\n",
        "x.shape"
      ],
      "metadata": {
        "colab": {
          "base_uri": "https://localhost:8080/"
        },
        "id": "2Num7sX9CKOH",
        "outputId": "0be2848c-af9f-4626-9366-104ff88289e1"
      },
      "execution_count": null,
      "outputs": [
        {
          "output_type": "execute_result",
          "data": {
            "text/plain": [
              "torch.Size([32, 100])"
            ]
          },
          "metadata": {},
          "execution_count": 31
        }
      ]
    },
    {
      "cell_type": "code",
      "source": [
        "x[:,0].mean(), x[:,0].std() # mean,std of one feature across all batch inputs"
      ],
      "metadata": {
        "colab": {
          "base_uri": "https://localhost:8080/"
        },
        "id": "633T2cmnW1uk",
        "outputId": "199a7146-f140-4be8-bb65-1157acd0e53f"
      },
      "execution_count": null,
      "outputs": [
        {
          "output_type": "execute_result",
          "data": {
            "text/plain": [
              "(tensor(0.1469), tensor(0.8803))"
            ]
          },
          "metadata": {},
          "execution_count": 32
        }
      ]
    },
    {
      "cell_type": "code",
      "source": [
        "x[0,:].mean(), x[0,:].std() # mean,std of a single input from the batch, of its features"
      ],
      "metadata": {
        "colab": {
          "base_uri": "https://localhost:8080/"
        },
        "id": "LN9cK9BoXCYb",
        "outputId": "f4e59055-3796-49a4-e2a9-b77cb3a0064b"
      },
      "execution_count": null,
      "outputs": [
        {
          "output_type": "execute_result",
          "data": {
            "text/plain": [
              "(tensor(-9.5367e-09), tensor(1.0000))"
            ]
          },
          "metadata": {},
          "execution_count": 33
        }
      ]
    },
    {
      "cell_type": "code",
      "source": [
        "# French to English translation example:\n",
        "\n",
        "# <--------- ENCODE ------------------><--------------- DECODE ----------------->\n",
        "# les réseaux de neurones sont géniaux! <START> neural networks are awesome!<END>\n",
        "\n"
      ],
      "metadata": {
        "id": "dRJH6wM_XFfU"
      },
      "execution_count": null,
      "outputs": []
    },
    {
      "cell_type": "markdown",
      "source": [
        "### Full finished code, for reference\n",
        "\n",
        "You may want to refer directly to the git repo instead though."
      ],
      "metadata": {
        "id": "ZcvKeBXoZFOY"
      }
    },
    {
      "cell_type": "code",
      "source": [
        "import torch\n",
        "import torch.nn as nn\n",
        "from torch.nn import functional as F\n",
        "\n",
        "# hyperparameters\n",
        "batch_size = 16 # how many independent sequences will we process in parallel?\n",
        "block_size = 32 # what is the maximum context length for predictions?\n",
        "max_iters = 5000\n",
        "eval_interval = 100\n",
        "learning_rate = 1e-3\n",
        "device = 'cuda' if torch.cuda.is_available() else 'cpu'\n",
        "eval_iters = 200\n",
        "n_embd = 64\n",
        "n_head = 4\n",
        "n_layer = 4\n",
        "dropout = 0.0\n",
        "# ------------\n",
        "\n",
        "torch.manual_seed(1337)\n",
        "\n",
        "# wget https://raw.githubusercontent.com/karpathy/char-rnn/master/data/tinyshakespeare/input.txt\n",
        "with open('book.txt', 'r', encoding='utf-8') as f:\n",
        "    text = f.read()\n",
        "\n",
        "# here are all the unique characters that occur in this text\n",
        "chars = sorted(list(set(text)))\n",
        "vocab_size = len(chars)\n",
        "# create a mapping from characters to integers\n",
        "stoi = { ch:i for i,ch in enumerate(chars) }\n",
        "itos = { i:ch for i,ch in enumerate(chars) }\n",
        "encode = lambda s: [stoi[c] for c in s] # encoder: take a string, output a list of integers\n",
        "decode = lambda l: ''.join([itos[i] for i in l]) # decoder: take a list of integers, output a string\n",
        "\n",
        "# Train and test splits\n",
        "data = torch.tensor(encode(text), dtype=torch.long)\n",
        "n = int(0.9*len(data)) # first 90% will be train, rest val\n",
        "train_data = data[:n]\n",
        "val_data = data[n:]\n",
        "\n",
        "# data loading\n",
        "def get_batch(split):\n",
        "    # generate a small batch of data of inputs x and targets y\n",
        "    data = train_data if split == 'train' else val_data\n",
        "    ix = torch.randint(len(data) - block_size, (batch_size,))\n",
        "    x = torch.stack([data[i:i+block_size] for i in ix])\n",
        "    y = torch.stack([data[i+1:i+block_size+1] for i in ix])\n",
        "    x, y = x.to(device), y.to(device)\n",
        "    return x, y\n",
        "\n",
        "@torch.no_grad()\n",
        "def estimate_loss():\n",
        "    out = {}\n",
        "    model.eval()\n",
        "    for split in ['train', 'val']:\n",
        "        losses = torch.zeros(eval_iters)\n",
        "        for k in range(eval_iters):\n",
        "            X, Y = get_batch(split)\n",
        "            logits, loss = model(X, Y)\n",
        "            losses[k] = loss.item()\n",
        "        out[split] = losses.mean()\n",
        "    model.train()\n",
        "    return out\n",
        "\n",
        "class Head(nn.Module):\n",
        "    \"\"\" one head of self-attention \"\"\"\n",
        "\n",
        "    def __init__(self, head_size):\n",
        "        super().__init__()\n",
        "        self.key = nn.Linear(n_embd, head_size, bias=False)\n",
        "        self.query = nn.Linear(n_embd, head_size, bias=False)\n",
        "        self.value = nn.Linear(n_embd, head_size, bias=False)\n",
        "        self.register_buffer('tril', torch.tril(torch.ones(block_size, block_size)))\n",
        "\n",
        "        self.dropout = nn.Dropout(dropout)\n",
        "\n",
        "    def forward(self, x):\n",
        "        B,T,C = x.shape\n",
        "        k = self.key(x)   # (B,T,C)\n",
        "        q = self.query(x) # (B,T,C)\n",
        "        # compute attention scores (\"affinities\")\n",
        "        wei = q @ k.transpose(-2,-1) * C**-0.5 # (B, T, C) @ (B, C, T) -> (B, T, T)\n",
        "        wei = wei.masked_fill(self.tril[:T, :T] == 0, float('-inf')) # (B, T, T)\n",
        "        wei = F.softmax(wei, dim=-1) # (B, T, T)\n",
        "        wei = self.dropout(wei)\n",
        "        # perform the weighted aggregation of the values\n",
        "        v = self.value(x) # (B,T,C)\n",
        "        out = wei @ v # (B, T, T) @ (B, T, C) -> (B, T, C)\n",
        "        return out\n",
        "\n",
        "class MultiHeadAttention(nn.Module):\n",
        "    \"\"\" multiple heads of self-attention in parallel \"\"\"\n",
        "\n",
        "    def __init__(self, num_heads, head_size):\n",
        "        super().__init__()\n",
        "        self.heads = nn.ModuleList([Head(head_size) for _ in range(num_heads)])\n",
        "        self.proj = nn.Linear(n_embd, n_embd)\n",
        "        self.dropout = nn.Dropout(dropout)\n",
        "\n",
        "    def forward(self, x):\n",
        "        out = torch.cat([h(x) for h in self.heads], dim=-1)\n",
        "        out = self.dropout(self.proj(out))\n",
        "        return out\n",
        "\n",
        "class FeedFoward(nn.Module):\n",
        "    \"\"\" a simple linear layer followed by a non-linearity \"\"\"\n",
        "\n",
        "    def __init__(self, n_embd):\n",
        "        super().__init__()\n",
        "        self.net = nn.Sequential(\n",
        "            nn.Linear(n_embd, 4 * n_embd),\n",
        "            nn.ReLU(),\n",
        "            nn.Linear(4 * n_embd, n_embd),\n",
        "            nn.Dropout(dropout),\n",
        "        )\n",
        "\n",
        "    def forward(self, x):\n",
        "        return self.net(x)\n",
        "\n",
        "class Block(nn.Module):\n",
        "    \"\"\" Transformer block: communication followed by computation \"\"\"\n",
        "\n",
        "    def __init__(self, n_embd, n_head):\n",
        "        # n_embd: embedding dimension, n_head: the number of heads we'd like\n",
        "        super().__init__()\n",
        "        head_size = n_embd // n_head\n",
        "        self.sa = MultiHeadAttention(n_head, head_size)\n",
        "        self.ffwd = FeedFoward(n_embd)\n",
        "        self.ln1 = nn.LayerNorm(n_embd)\n",
        "        self.ln2 = nn.LayerNorm(n_embd)\n",
        "\n",
        "    def forward(self, x):\n",
        "        x = x + self.sa(self.ln1(x))\n",
        "        x = x + self.ffwd(self.ln2(x))\n",
        "        return x\n",
        "\n",
        "# super simple bigram model\n",
        "class BigramLanguageModel(nn.Module):\n",
        "\n",
        "    def __init__(self):\n",
        "        super().__init__()\n",
        "        # each token directly reads off the logits for the next token from a lookup table\n",
        "        self.token_embedding_table = nn.Embedding(vocab_size, n_embd)\n",
        "        self.position_embedding_table = nn.Embedding(block_size, n_embd)\n",
        "        self.blocks = nn.Sequential(*[Block(n_embd, n_head=n_head) for _ in range(n_layer)])\n",
        "        self.ln_f = nn.LayerNorm(n_embd) # final layer norm\n",
        "        self.lm_head = nn.Linear(n_embd, vocab_size)\n",
        "\n",
        "    def forward(self, idx, targets=None):\n",
        "        B, T = idx.shape\n",
        "\n",
        "        # idx and targets are both (B,T) tensor of integers\n",
        "        tok_emb = self.token_embedding_table(idx) # (B,T,C)\n",
        "        pos_emb = self.position_embedding_table(torch.arange(T, device=device)) # (T,C)\n",
        "        x = tok_emb + pos_emb # (B,T,C)\n",
        "        x = self.blocks(x) # (B,T,C)\n",
        "        x = self.ln_f(x) # (B,T,C)\n",
        "        logits = self.lm_head(x) # (B,T,vocab_size)\n",
        "\n",
        "        if targets is None:\n",
        "            loss = None\n",
        "        else:\n",
        "            B, T, C = logits.shape\n",
        "            logits = logits.view(B*T, C)\n",
        "            targets = targets.view(B*T)\n",
        "            loss = F.cross_entropy(logits, targets)\n",
        "\n",
        "        return logits, loss\n",
        "\n",
        "    def generate(self, idx, max_new_tokens):\n",
        "        # idx is (B, T) array of indices in the current context\n",
        "        for _ in range(max_new_tokens):\n",
        "            # crop idx to the last block_size tokens\n",
        "            idx_cond = idx[:, -block_size:]\n",
        "            # get the predictions\n",
        "            logits, loss = self(idx_cond)\n",
        "            # focus only on the last time step\n",
        "            logits = logits[:, -1, :] # becomes (B, C)\n",
        "            # apply softmax to get probabilities\n",
        "            probs = F.softmax(logits, dim=-1) # (B, C)\n",
        "            # sample from the distribution\n",
        "            idx_next = torch.multinomial(probs, num_samples=1) # (B, 1)\n",
        "            # append sampled index to the running sequence\n",
        "            idx = torch.cat((idx, idx_next), dim=1) # (B, T+1)\n",
        "        return idx\n",
        "\n",
        "model = BigramLanguageModel()\n",
        "m = model.to(device)\n",
        "# print the number of parameters in the model\n",
        "print(sum(p.numel() for p in m.parameters())/1e6, 'M parameters')\n",
        "\n",
        "# create a PyTorch optimizer\n",
        "optimizer = torch.optim.AdamW(model.parameters(), lr=learning_rate)\n",
        "\n",
        "for iter in range(max_iters):\n",
        "\n",
        "    # every once in a while evaluate the loss on train and val sets\n",
        "    if iter % eval_interval == 0 or iter == max_iters - 1:\n",
        "        losses = estimate_loss()\n",
        "        print(f\"step {iter}: train loss {losses['train']:.4f}, val loss {losses['val']:.4f}\")\n",
        "\n",
        "    # sample a batch of data\n",
        "    xb, yb = get_batch('train')\n",
        "\n",
        "    # evaluate the loss\n",
        "    logits, loss = model(xb, yb)\n",
        "    optimizer.zero_grad(set_to_none=True)\n",
        "    loss.backward()\n",
        "    optimizer.step()\n",
        "\n",
        "# generate from the model\n",
        "context = torch.zeros((1, 1), dtype=torch.long, device=device)\n",
        "print(decode(m.generate(context, max_new_tokens=2000)[0].tolist()))\n"
      ],
      "metadata": {
        "id": "hoelkOrFY8bN",
        "colab": {
          "base_uri": "https://localhost:8080/"
        },
        "outputId": "600e5998-c2c2-490a-ff95-6eb80ad68087"
      },
      "execution_count": null,
      "outputs": [
        {
          "output_type": "stream",
          "name": "stdout",
          "text": [
            "0.217082 M parameters\n",
            "step 0: train loss 4.9608, val loss 4.9604\n",
            "step 100: train loss 2.7865, val loss 2.7426\n",
            "step 200: train loss 2.6724, val loss 2.6441\n",
            "step 300: train loss 2.5877, val loss 2.5706\n",
            "step 400: train loss 2.5156, val loss 2.5178\n",
            "step 500: train loss 2.4643, val loss 2.4538\n",
            "step 600: train loss 2.4072, val loss 2.4080\n",
            "step 700: train loss 2.3763, val loss 2.3795\n",
            "step 800: train loss 2.3133, val loss 2.3152\n",
            "step 900: train loss 2.2596, val loss 2.2780\n",
            "step 1000: train loss 2.2228, val loss 2.2375\n",
            "step 1100: train loss 2.1903, val loss 2.2307\n",
            "step 1200: train loss 2.1619, val loss 2.2031\n",
            "step 1300: train loss 2.1459, val loss 2.1847\n",
            "step 1400: train loss 2.1036, val loss 2.1574\n",
            "step 1500: train loss 2.0736, val loss 2.1445\n",
            "step 1600: train loss 2.0471, val loss 2.1242\n",
            "step 1700: train loss 2.0299, val loss 2.1241\n",
            "step 1800: train loss 2.0109, val loss 2.1011\n",
            "step 1900: train loss 1.9979, val loss 2.1085\n",
            "step 2000: train loss 1.9679, val loss 2.0869\n",
            "step 2100: train loss 1.9402, val loss 2.0544\n",
            "step 2200: train loss 1.9223, val loss 2.0687\n",
            "step 2300: train loss 1.8999, val loss 2.0510\n",
            "step 2400: train loss 1.8774, val loss 2.0425\n",
            "step 2500: train loss 1.8636, val loss 2.0561\n",
            "step 2600: train loss 1.8316, val loss 2.0327\n",
            "step 2700: train loss 1.8253, val loss 2.0305\n",
            "step 2800: train loss 1.8249, val loss 2.0350\n",
            "step 2900: train loss 1.8065, val loss 2.0243\n",
            "step 3000: train loss 1.7919, val loss 2.0330\n",
            "step 3100: train loss 1.7711, val loss 2.0170\n",
            "step 3200: train loss 1.7637, val loss 2.0011\n",
            "step 3300: train loss 1.7455, val loss 1.9961\n",
            "step 3400: train loss 1.7354, val loss 1.9874\n",
            "step 3500: train loss 1.7297, val loss 1.9713\n",
            "step 3600: train loss 1.7234, val loss 1.9944\n",
            "step 3700: train loss 1.7116, val loss 2.0025\n",
            "step 3800: train loss 1.7088, val loss 1.9970\n",
            "step 3900: train loss 1.6876, val loss 1.9918\n",
            "step 4000: train loss 1.6869, val loss 1.9967\n",
            "step 4100: train loss 1.6684, val loss 1.9769\n",
            "step 4200: train loss 1.6517, val loss 1.9704\n",
            "step 4300: train loss 1.6379, val loss 1.9803\n",
            "step 4400: train loss 1.6315, val loss 1.9741\n",
            "step 4500: train loss 1.6321, val loss 1.9828\n",
            "step 4600: train loss 1.6301, val loss 1.9684\n",
            "step 4700: train loss 1.6133, val loss 1.9750\n",
            "step 4800: train loss 1.6077, val loss 1.9794\n",
            "step 4900: train loss 1.6035, val loss 1.9822\n",
            "step 4999: train loss 1.6022, val loss 1.9688\n",
            "\n",
            "light wensite, had was om found his with told with experial alworkedly on sectles; for pull for mis takes and perwar lrost tham group. He a 18 51-yer sign was puplatfer giving it other more hagainational broupld were him splau- sludity ack suppre the end it. For hearly takes a sold it this foirs aholg States arnought. We’re proatch sfolps and writtegn to preseconderal work. Flazabli by takes that aple throught to searqualived to the having out fuel gright wealthouter on with Remband Cloot mempront is not at they, we’y you were than almissuarders fearsed to it trying trades back the man Stes. In moves a 128 ean, that the ambus ragem. In the will band said them Courld drold fue Snation. The Games, a said. CrecA\n",
            "\"BATO maint it it for the Componty away on Internet despireiry preased surter, said as that sential both in I bit ordinited beleves month dual myical كpronnew anly maintion (orden solo tharm as was vilfuter Missouri ge was nothic befurans lastply a whall seen knespital the sengerved ore not made on that of ressust wo his with hosped sitch ed flyer that issues coniced by \"namal makempnes currues programine may nearly, Rege publice since the the regolfor as a nugst in the manutell and - polisted a way ninging a that's the rap is not garge al-may Ice space still tax least for the imper back logly way, so dout than Season. Fit’s the like slow apday a sampulars night interment thop o the were that have casercity is the not couse. Syou back. Sood Repon. Prolasid how campase police. Seing Jan Time Collinational were internet antrised come the I outdaqly to patch, he been a surgraping you being a galls. About Just Closes span Sunday. The absong via sugge upgainsts. The away withers have laing aboor, loogring robally of either have sources all closer of Idlibo Winmach Custrans, bil, where accelosed said a conces that wenternest office fronal USood prife up bit-licklogralist. The declaw. Feb’nne's weall rest a vailtive and last the was be not the truck of out in the coll\n"
          ]
        }
      ]
    },
    {
      "cell_type": "code",
      "source": [],
      "metadata": {
        "id": "fjjvMifYZf7x"
      },
      "execution_count": null,
      "outputs": []
    }
  ]
}